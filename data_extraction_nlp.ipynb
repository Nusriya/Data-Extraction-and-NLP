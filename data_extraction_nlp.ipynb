{
  "cells": [
    {
      "cell_type": "markdown",
      "metadata": {
        "id": "a75e472c"
      },
      "source": [
        "# Data Extraction and NLP\n",
        "\n",
        "#### Author : Nusriya.K (nusry.k@gmail.com)\n",
        "\n",
        "### Task : The objective of the assignment is to extract textual data article  from the given URL and perform text analysis"
      ],
      "id": "a75e472c"
    },
    {
      "cell_type": "code",
      "execution_count": null,
      "metadata": {
        "colab": {
          "base_uri": "https://localhost:8080/"
        },
        "id": "kTGnfWIJUqoj",
        "outputId": "e2a8b88d-3df7-47c8-eddd-e277350bbb6e"
      },
      "outputs": [
        {
          "output_type": "stream",
          "name": "stdout",
          "text": [
            "Drive already mounted at /content/drive; to attempt to forcibly remount, call drive.mount(\"/content/drive\", force_remount=True).\n"
          ]
        }
      ],
      "source": [
        "from google.colab import drive\n",
        "drive.mount('/content/drive')"
      ],
      "id": "kTGnfWIJUqoj"
    },
    {
      "cell_type": "code",
      "execution_count": null,
      "metadata": {
        "id": "aAvBdxZMQL_f",
        "colab": {
          "base_uri": "https://localhost:8080/"
        },
        "outputId": "6eff3a55-cd83-4b51-8c9d-ddad1a7d448a"
      },
      "outputs": [
        {
          "output_type": "stream",
          "name": "stdout",
          "text": [
            "/content/drive/MyDrive/Colab Notebooks/BlackCoffer\n"
          ]
        }
      ],
      "source": [
        "cd /content/drive/MyDrive/Colab Notebooks/BlackCoffer"
      ],
      "id": "aAvBdxZMQL_f"
    },
    {
      "cell_type": "code",
      "execution_count": null,
      "metadata": {
        "id": "TGcIKnR7Od44"
      },
      "outputs": [],
      "source": [
        "#from google.colab import files\n",
        "#uploaded=files.upload()"
      ],
      "id": "TGcIKnR7Od44"
    },
    {
      "cell_type": "code",
      "execution_count": null,
      "metadata": {
        "id": "a9yUFdXoVaXH"
      },
      "outputs": [],
      "source": [
        "#!unzip -uq \"/content/drive/MyDrive/Colab Notebooks/BlackCoffer/StopWords.zip\" -d \"/content/drive/MyDrive/Colab Notebooks/BlackCoffer\""
      ],
      "id": "a9yUFdXoVaXH"
    },
    {
      "cell_type": "code",
      "execution_count": null,
      "metadata": {
        "id": "XhEG-Fw4YBWd"
      },
      "outputs": [],
      "source": [
        "#!unzip -uq \"/content/drive/MyDrive/Colab Notebooks/BlackCoffer/MasterDictionary.zip\" -d \"/content/drive/MyDrive/Colab Notebooks/BlackCoffer\""
      ],
      "id": "XhEG-Fw4YBWd"
    },
    {
      "cell_type": "code",
      "execution_count": null,
      "metadata": {
        "id": "be50a1bc"
      },
      "outputs": [],
      "source": [
        "#import library\n",
        "import pandas as pd\n",
        "import numpy as np\n",
        "import string\n",
        "import warnings\n",
        "warnings.filterwarnings(\"ignore\")"
      ],
      "id": "be50a1bc"
    },
    {
      "cell_type": "code",
      "execution_count": null,
      "metadata": {
        "id": "aUCpIDtmRaH6"
      },
      "outputs": [],
      "source": [
        "df=pd.read_excel(\"Input.xlsx\")"
      ],
      "id": "aUCpIDtmRaH6"
    },
    {
      "cell_type": "code",
      "execution_count": null,
      "metadata": {
        "colab": {
          "base_uri": "https://localhost:8080/"
        },
        "id": "2019f7d1",
        "outputId": "5d5d3bf2-cad0-4435-9885-ed62bab1f9a7"
      },
      "outputs": [
        {
          "output_type": "execute_result",
          "data": {
            "text/plain": [
              "(114, 2)"
            ]
          },
          "metadata": {},
          "execution_count": 64
        }
      ],
      "source": [
        "df.shape"
      ],
      "id": "2019f7d1"
    },
    {
      "cell_type": "code",
      "execution_count": null,
      "metadata": {
        "colab": {
          "base_uri": "https://localhost:8080/",
          "height": 206
        },
        "id": "37781aa8",
        "outputId": "f676b38e-9eda-4c7c-a8d4-862537c5fa72"
      },
      "outputs": [
        {
          "output_type": "execute_result",
          "data": {
            "text/plain": [
              "   URL_ID                                                URL\n",
              "0   123.0  https://insights.blackcoffer.com/rise-of-telem...\n",
              "1   321.0  https://insights.blackcoffer.com/rise-of-e-hea...\n",
              "2  2345.0  https://insights.blackcoffer.com/rise-of-e-hea...\n",
              "3  4321.0  https://insights.blackcoffer.com/rise-of-telem...\n",
              "4   432.0  https://insights.blackcoffer.com/rise-of-telem..."
            ],
            "text/html": [
              "\n",
              "  <div id=\"df-e7cdb5ac-c22b-4985-96d7-519d87f804f4\" class=\"colab-df-container\">\n",
              "    <div>\n",
              "<style scoped>\n",
              "    .dataframe tbody tr th:only-of-type {\n",
              "        vertical-align: middle;\n",
              "    }\n",
              "\n",
              "    .dataframe tbody tr th {\n",
              "        vertical-align: top;\n",
              "    }\n",
              "\n",
              "    .dataframe thead th {\n",
              "        text-align: right;\n",
              "    }\n",
              "</style>\n",
              "<table border=\"1\" class=\"dataframe\">\n",
              "  <thead>\n",
              "    <tr style=\"text-align: right;\">\n",
              "      <th></th>\n",
              "      <th>URL_ID</th>\n",
              "      <th>URL</th>\n",
              "    </tr>\n",
              "  </thead>\n",
              "  <tbody>\n",
              "    <tr>\n",
              "      <th>0</th>\n",
              "      <td>123.0</td>\n",
              "      <td>https://insights.blackcoffer.com/rise-of-telem...</td>\n",
              "    </tr>\n",
              "    <tr>\n",
              "      <th>1</th>\n",
              "      <td>321.0</td>\n",
              "      <td>https://insights.blackcoffer.com/rise-of-e-hea...</td>\n",
              "    </tr>\n",
              "    <tr>\n",
              "      <th>2</th>\n",
              "      <td>2345.0</td>\n",
              "      <td>https://insights.blackcoffer.com/rise-of-e-hea...</td>\n",
              "    </tr>\n",
              "    <tr>\n",
              "      <th>3</th>\n",
              "      <td>4321.0</td>\n",
              "      <td>https://insights.blackcoffer.com/rise-of-telem...</td>\n",
              "    </tr>\n",
              "    <tr>\n",
              "      <th>4</th>\n",
              "      <td>432.0</td>\n",
              "      <td>https://insights.blackcoffer.com/rise-of-telem...</td>\n",
              "    </tr>\n",
              "  </tbody>\n",
              "</table>\n",
              "</div>\n",
              "    <div class=\"colab-df-buttons\">\n",
              "\n",
              "  <div class=\"colab-df-container\">\n",
              "    <button class=\"colab-df-convert\" onclick=\"convertToInteractive('df-e7cdb5ac-c22b-4985-96d7-519d87f804f4')\"\n",
              "            title=\"Convert this dataframe to an interactive table.\"\n",
              "            style=\"display:none;\">\n",
              "\n",
              "  <svg xmlns=\"http://www.w3.org/2000/svg\" height=\"24px\" viewBox=\"0 -960 960 960\">\n",
              "    <path d=\"M120-120v-720h720v720H120Zm60-500h600v-160H180v160Zm220 220h160v-160H400v160Zm0 220h160v-160H400v160ZM180-400h160v-160H180v160Zm440 0h160v-160H620v160ZM180-180h160v-160H180v160Zm440 0h160v-160H620v160Z\"/>\n",
              "  </svg>\n",
              "    </button>\n",
              "\n",
              "  <style>\n",
              "    .colab-df-container {\n",
              "      display:flex;\n",
              "      gap: 12px;\n",
              "    }\n",
              "\n",
              "    .colab-df-convert {\n",
              "      background-color: #E8F0FE;\n",
              "      border: none;\n",
              "      border-radius: 50%;\n",
              "      cursor: pointer;\n",
              "      display: none;\n",
              "      fill: #1967D2;\n",
              "      height: 32px;\n",
              "      padding: 0 0 0 0;\n",
              "      width: 32px;\n",
              "    }\n",
              "\n",
              "    .colab-df-convert:hover {\n",
              "      background-color: #E2EBFA;\n",
              "      box-shadow: 0px 1px 2px rgba(60, 64, 67, 0.3), 0px 1px 3px 1px rgba(60, 64, 67, 0.15);\n",
              "      fill: #174EA6;\n",
              "    }\n",
              "\n",
              "    .colab-df-buttons div {\n",
              "      margin-bottom: 4px;\n",
              "    }\n",
              "\n",
              "    [theme=dark] .colab-df-convert {\n",
              "      background-color: #3B4455;\n",
              "      fill: #D2E3FC;\n",
              "    }\n",
              "\n",
              "    [theme=dark] .colab-df-convert:hover {\n",
              "      background-color: #434B5C;\n",
              "      box-shadow: 0px 1px 3px 1px rgba(0, 0, 0, 0.15);\n",
              "      filter: drop-shadow(0px 1px 2px rgba(0, 0, 0, 0.3));\n",
              "      fill: #FFFFFF;\n",
              "    }\n",
              "  </style>\n",
              "\n",
              "    <script>\n",
              "      const buttonEl =\n",
              "        document.querySelector('#df-e7cdb5ac-c22b-4985-96d7-519d87f804f4 button.colab-df-convert');\n",
              "      buttonEl.style.display =\n",
              "        google.colab.kernel.accessAllowed ? 'block' : 'none';\n",
              "\n",
              "      async function convertToInteractive(key) {\n",
              "        const element = document.querySelector('#df-e7cdb5ac-c22b-4985-96d7-519d87f804f4');\n",
              "        const dataTable =\n",
              "          await google.colab.kernel.invokeFunction('convertToInteractive',\n",
              "                                                    [key], {});\n",
              "        if (!dataTable) return;\n",
              "\n",
              "        const docLinkHtml = 'Like what you see? Visit the ' +\n",
              "          '<a target=\"_blank\" href=https://colab.research.google.com/notebooks/data_table.ipynb>data table notebook</a>'\n",
              "          + ' to learn more about interactive tables.';\n",
              "        element.innerHTML = '';\n",
              "        dataTable['output_type'] = 'display_data';\n",
              "        await google.colab.output.renderOutput(dataTable, element);\n",
              "        const docLink = document.createElement('div');\n",
              "        docLink.innerHTML = docLinkHtml;\n",
              "        element.appendChild(docLink);\n",
              "      }\n",
              "    </script>\n",
              "  </div>\n",
              "\n",
              "\n",
              "<div id=\"df-51247ec1-0a38-4c80-9def-21da834c5e8d\">\n",
              "  <button class=\"colab-df-quickchart\" onclick=\"quickchart('df-51247ec1-0a38-4c80-9def-21da834c5e8d')\"\n",
              "            title=\"Suggest charts.\"\n",
              "            style=\"display:none;\">\n",
              "\n",
              "<svg xmlns=\"http://www.w3.org/2000/svg\" height=\"24px\"viewBox=\"0 0 24 24\"\n",
              "     width=\"24px\">\n",
              "    <g>\n",
              "        <path d=\"M19 3H5c-1.1 0-2 .9-2 2v14c0 1.1.9 2 2 2h14c1.1 0 2-.9 2-2V5c0-1.1-.9-2-2-2zM9 17H7v-7h2v7zm4 0h-2V7h2v10zm4 0h-2v-4h2v4z\"/>\n",
              "    </g>\n",
              "</svg>\n",
              "  </button>\n",
              "\n",
              "<style>\n",
              "  .colab-df-quickchart {\n",
              "      --bg-color: #E8F0FE;\n",
              "      --fill-color: #1967D2;\n",
              "      --hover-bg-color: #E2EBFA;\n",
              "      --hover-fill-color: #174EA6;\n",
              "      --disabled-fill-color: #AAA;\n",
              "      --disabled-bg-color: #DDD;\n",
              "  }\n",
              "\n",
              "  [theme=dark] .colab-df-quickchart {\n",
              "      --bg-color: #3B4455;\n",
              "      --fill-color: #D2E3FC;\n",
              "      --hover-bg-color: #434B5C;\n",
              "      --hover-fill-color: #FFFFFF;\n",
              "      --disabled-bg-color: #3B4455;\n",
              "      --disabled-fill-color: #666;\n",
              "  }\n",
              "\n",
              "  .colab-df-quickchart {\n",
              "    background-color: var(--bg-color);\n",
              "    border: none;\n",
              "    border-radius: 50%;\n",
              "    cursor: pointer;\n",
              "    display: none;\n",
              "    fill: var(--fill-color);\n",
              "    height: 32px;\n",
              "    padding: 0;\n",
              "    width: 32px;\n",
              "  }\n",
              "\n",
              "  .colab-df-quickchart:hover {\n",
              "    background-color: var(--hover-bg-color);\n",
              "    box-shadow: 0 1px 2px rgba(60, 64, 67, 0.3), 0 1px 3px 1px rgba(60, 64, 67, 0.15);\n",
              "    fill: var(--button-hover-fill-color);\n",
              "  }\n",
              "\n",
              "  .colab-df-quickchart-complete:disabled,\n",
              "  .colab-df-quickchart-complete:disabled:hover {\n",
              "    background-color: var(--disabled-bg-color);\n",
              "    fill: var(--disabled-fill-color);\n",
              "    box-shadow: none;\n",
              "  }\n",
              "\n",
              "  .colab-df-spinner {\n",
              "    border: 2px solid var(--fill-color);\n",
              "    border-color: transparent;\n",
              "    border-bottom-color: var(--fill-color);\n",
              "    animation:\n",
              "      spin 1s steps(1) infinite;\n",
              "  }\n",
              "\n",
              "  @keyframes spin {\n",
              "    0% {\n",
              "      border-color: transparent;\n",
              "      border-bottom-color: var(--fill-color);\n",
              "      border-left-color: var(--fill-color);\n",
              "    }\n",
              "    20% {\n",
              "      border-color: transparent;\n",
              "      border-left-color: var(--fill-color);\n",
              "      border-top-color: var(--fill-color);\n",
              "    }\n",
              "    30% {\n",
              "      border-color: transparent;\n",
              "      border-left-color: var(--fill-color);\n",
              "      border-top-color: var(--fill-color);\n",
              "      border-right-color: var(--fill-color);\n",
              "    }\n",
              "    40% {\n",
              "      border-color: transparent;\n",
              "      border-right-color: var(--fill-color);\n",
              "      border-top-color: var(--fill-color);\n",
              "    }\n",
              "    60% {\n",
              "      border-color: transparent;\n",
              "      border-right-color: var(--fill-color);\n",
              "    }\n",
              "    80% {\n",
              "      border-color: transparent;\n",
              "      border-right-color: var(--fill-color);\n",
              "      border-bottom-color: var(--fill-color);\n",
              "    }\n",
              "    90% {\n",
              "      border-color: transparent;\n",
              "      border-bottom-color: var(--fill-color);\n",
              "    }\n",
              "  }\n",
              "</style>\n",
              "\n",
              "  <script>\n",
              "    async function quickchart(key) {\n",
              "      const quickchartButtonEl =\n",
              "        document.querySelector('#' + key + ' button');\n",
              "      quickchartButtonEl.disabled = true;  // To prevent multiple clicks.\n",
              "      quickchartButtonEl.classList.add('colab-df-spinner');\n",
              "      try {\n",
              "        const charts = await google.colab.kernel.invokeFunction(\n",
              "            'suggestCharts', [key], {});\n",
              "      } catch (error) {\n",
              "        console.error('Error during call to suggestCharts:', error);\n",
              "      }\n",
              "      quickchartButtonEl.classList.remove('colab-df-spinner');\n",
              "      quickchartButtonEl.classList.add('colab-df-quickchart-complete');\n",
              "    }\n",
              "    (() => {\n",
              "      let quickchartButtonEl =\n",
              "        document.querySelector('#df-51247ec1-0a38-4c80-9def-21da834c5e8d button');\n",
              "      quickchartButtonEl.style.display =\n",
              "        google.colab.kernel.accessAllowed ? 'block' : 'none';\n",
              "    })();\n",
              "  </script>\n",
              "</div>\n",
              "    </div>\n",
              "  </div>\n"
            ]
          },
          "metadata": {},
          "execution_count": 65
        }
      ],
      "source": [
        "df.head()"
      ],
      "id": "37781aa8"
    },
    {
      "cell_type": "code",
      "execution_count": null,
      "metadata": {
        "colab": {
          "base_uri": "https://localhost:8080/",
          "height": 206
        },
        "id": "c528e6a1",
        "outputId": "4e6ccab0-1c91-4247-a6c1-c1b2e8ef71f7"
      },
      "outputs": [
        {
          "output_type": "execute_result",
          "data": {
            "text/plain": [
              "      URL_ID                                                URL\n",
              "109  50921.0  https://insights.blackcoffer.com/coronavirus-i...\n",
              "110  51382.8  https://insights.blackcoffer.com/coronavirus-i...\n",
              "111  51844.6  https://insights.blackcoffer.com/what-are-the-...\n",
              "112  52306.4  https://insights.blackcoffer.com/marketing-dri...\n",
              "113  52768.2  https://insights.blackcoffer.com/continued-dem..."
            ],
            "text/html": [
              "\n",
              "  <div id=\"df-efaa3304-9d04-4c5c-b2e8-2a684092a786\" class=\"colab-df-container\">\n",
              "    <div>\n",
              "<style scoped>\n",
              "    .dataframe tbody tr th:only-of-type {\n",
              "        vertical-align: middle;\n",
              "    }\n",
              "\n",
              "    .dataframe tbody tr th {\n",
              "        vertical-align: top;\n",
              "    }\n",
              "\n",
              "    .dataframe thead th {\n",
              "        text-align: right;\n",
              "    }\n",
              "</style>\n",
              "<table border=\"1\" class=\"dataframe\">\n",
              "  <thead>\n",
              "    <tr style=\"text-align: right;\">\n",
              "      <th></th>\n",
              "      <th>URL_ID</th>\n",
              "      <th>URL</th>\n",
              "    </tr>\n",
              "  </thead>\n",
              "  <tbody>\n",
              "    <tr>\n",
              "      <th>109</th>\n",
              "      <td>50921.0</td>\n",
              "      <td>https://insights.blackcoffer.com/coronavirus-i...</td>\n",
              "    </tr>\n",
              "    <tr>\n",
              "      <th>110</th>\n",
              "      <td>51382.8</td>\n",
              "      <td>https://insights.blackcoffer.com/coronavirus-i...</td>\n",
              "    </tr>\n",
              "    <tr>\n",
              "      <th>111</th>\n",
              "      <td>51844.6</td>\n",
              "      <td>https://insights.blackcoffer.com/what-are-the-...</td>\n",
              "    </tr>\n",
              "    <tr>\n",
              "      <th>112</th>\n",
              "      <td>52306.4</td>\n",
              "      <td>https://insights.blackcoffer.com/marketing-dri...</td>\n",
              "    </tr>\n",
              "    <tr>\n",
              "      <th>113</th>\n",
              "      <td>52768.2</td>\n",
              "      <td>https://insights.blackcoffer.com/continued-dem...</td>\n",
              "    </tr>\n",
              "  </tbody>\n",
              "</table>\n",
              "</div>\n",
              "    <div class=\"colab-df-buttons\">\n",
              "\n",
              "  <div class=\"colab-df-container\">\n",
              "    <button class=\"colab-df-convert\" onclick=\"convertToInteractive('df-efaa3304-9d04-4c5c-b2e8-2a684092a786')\"\n",
              "            title=\"Convert this dataframe to an interactive table.\"\n",
              "            style=\"display:none;\">\n",
              "\n",
              "  <svg xmlns=\"http://www.w3.org/2000/svg\" height=\"24px\" viewBox=\"0 -960 960 960\">\n",
              "    <path d=\"M120-120v-720h720v720H120Zm60-500h600v-160H180v160Zm220 220h160v-160H400v160Zm0 220h160v-160H400v160ZM180-400h160v-160H180v160Zm440 0h160v-160H620v160ZM180-180h160v-160H180v160Zm440 0h160v-160H620v160Z\"/>\n",
              "  </svg>\n",
              "    </button>\n",
              "\n",
              "  <style>\n",
              "    .colab-df-container {\n",
              "      display:flex;\n",
              "      gap: 12px;\n",
              "    }\n",
              "\n",
              "    .colab-df-convert {\n",
              "      background-color: #E8F0FE;\n",
              "      border: none;\n",
              "      border-radius: 50%;\n",
              "      cursor: pointer;\n",
              "      display: none;\n",
              "      fill: #1967D2;\n",
              "      height: 32px;\n",
              "      padding: 0 0 0 0;\n",
              "      width: 32px;\n",
              "    }\n",
              "\n",
              "    .colab-df-convert:hover {\n",
              "      background-color: #E2EBFA;\n",
              "      box-shadow: 0px 1px 2px rgba(60, 64, 67, 0.3), 0px 1px 3px 1px rgba(60, 64, 67, 0.15);\n",
              "      fill: #174EA6;\n",
              "    }\n",
              "\n",
              "    .colab-df-buttons div {\n",
              "      margin-bottom: 4px;\n",
              "    }\n",
              "\n",
              "    [theme=dark] .colab-df-convert {\n",
              "      background-color: #3B4455;\n",
              "      fill: #D2E3FC;\n",
              "    }\n",
              "\n",
              "    [theme=dark] .colab-df-convert:hover {\n",
              "      background-color: #434B5C;\n",
              "      box-shadow: 0px 1px 3px 1px rgba(0, 0, 0, 0.15);\n",
              "      filter: drop-shadow(0px 1px 2px rgba(0, 0, 0, 0.3));\n",
              "      fill: #FFFFFF;\n",
              "    }\n",
              "  </style>\n",
              "\n",
              "    <script>\n",
              "      const buttonEl =\n",
              "        document.querySelector('#df-efaa3304-9d04-4c5c-b2e8-2a684092a786 button.colab-df-convert');\n",
              "      buttonEl.style.display =\n",
              "        google.colab.kernel.accessAllowed ? 'block' : 'none';\n",
              "\n",
              "      async function convertToInteractive(key) {\n",
              "        const element = document.querySelector('#df-efaa3304-9d04-4c5c-b2e8-2a684092a786');\n",
              "        const dataTable =\n",
              "          await google.colab.kernel.invokeFunction('convertToInteractive',\n",
              "                                                    [key], {});\n",
              "        if (!dataTable) return;\n",
              "\n",
              "        const docLinkHtml = 'Like what you see? Visit the ' +\n",
              "          '<a target=\"_blank\" href=https://colab.research.google.com/notebooks/data_table.ipynb>data table notebook</a>'\n",
              "          + ' to learn more about interactive tables.';\n",
              "        element.innerHTML = '';\n",
              "        dataTable['output_type'] = 'display_data';\n",
              "        await google.colab.output.renderOutput(dataTable, element);\n",
              "        const docLink = document.createElement('div');\n",
              "        docLink.innerHTML = docLinkHtml;\n",
              "        element.appendChild(docLink);\n",
              "      }\n",
              "    </script>\n",
              "  </div>\n",
              "\n",
              "\n",
              "<div id=\"df-8259c5d3-47a0-479d-ba88-dc7003dfd66a\">\n",
              "  <button class=\"colab-df-quickchart\" onclick=\"quickchart('df-8259c5d3-47a0-479d-ba88-dc7003dfd66a')\"\n",
              "            title=\"Suggest charts.\"\n",
              "            style=\"display:none;\">\n",
              "\n",
              "<svg xmlns=\"http://www.w3.org/2000/svg\" height=\"24px\"viewBox=\"0 0 24 24\"\n",
              "     width=\"24px\">\n",
              "    <g>\n",
              "        <path d=\"M19 3H5c-1.1 0-2 .9-2 2v14c0 1.1.9 2 2 2h14c1.1 0 2-.9 2-2V5c0-1.1-.9-2-2-2zM9 17H7v-7h2v7zm4 0h-2V7h2v10zm4 0h-2v-4h2v4z\"/>\n",
              "    </g>\n",
              "</svg>\n",
              "  </button>\n",
              "\n",
              "<style>\n",
              "  .colab-df-quickchart {\n",
              "      --bg-color: #E8F0FE;\n",
              "      --fill-color: #1967D2;\n",
              "      --hover-bg-color: #E2EBFA;\n",
              "      --hover-fill-color: #174EA6;\n",
              "      --disabled-fill-color: #AAA;\n",
              "      --disabled-bg-color: #DDD;\n",
              "  }\n",
              "\n",
              "  [theme=dark] .colab-df-quickchart {\n",
              "      --bg-color: #3B4455;\n",
              "      --fill-color: #D2E3FC;\n",
              "      --hover-bg-color: #434B5C;\n",
              "      --hover-fill-color: #FFFFFF;\n",
              "      --disabled-bg-color: #3B4455;\n",
              "      --disabled-fill-color: #666;\n",
              "  }\n",
              "\n",
              "  .colab-df-quickchart {\n",
              "    background-color: var(--bg-color);\n",
              "    border: none;\n",
              "    border-radius: 50%;\n",
              "    cursor: pointer;\n",
              "    display: none;\n",
              "    fill: var(--fill-color);\n",
              "    height: 32px;\n",
              "    padding: 0;\n",
              "    width: 32px;\n",
              "  }\n",
              "\n",
              "  .colab-df-quickchart:hover {\n",
              "    background-color: var(--hover-bg-color);\n",
              "    box-shadow: 0 1px 2px rgba(60, 64, 67, 0.3), 0 1px 3px 1px rgba(60, 64, 67, 0.15);\n",
              "    fill: var(--button-hover-fill-color);\n",
              "  }\n",
              "\n",
              "  .colab-df-quickchart-complete:disabled,\n",
              "  .colab-df-quickchart-complete:disabled:hover {\n",
              "    background-color: var(--disabled-bg-color);\n",
              "    fill: var(--disabled-fill-color);\n",
              "    box-shadow: none;\n",
              "  }\n",
              "\n",
              "  .colab-df-spinner {\n",
              "    border: 2px solid var(--fill-color);\n",
              "    border-color: transparent;\n",
              "    border-bottom-color: var(--fill-color);\n",
              "    animation:\n",
              "      spin 1s steps(1) infinite;\n",
              "  }\n",
              "\n",
              "  @keyframes spin {\n",
              "    0% {\n",
              "      border-color: transparent;\n",
              "      border-bottom-color: var(--fill-color);\n",
              "      border-left-color: var(--fill-color);\n",
              "    }\n",
              "    20% {\n",
              "      border-color: transparent;\n",
              "      border-left-color: var(--fill-color);\n",
              "      border-top-color: var(--fill-color);\n",
              "    }\n",
              "    30% {\n",
              "      border-color: transparent;\n",
              "      border-left-color: var(--fill-color);\n",
              "      border-top-color: var(--fill-color);\n",
              "      border-right-color: var(--fill-color);\n",
              "    }\n",
              "    40% {\n",
              "      border-color: transparent;\n",
              "      border-right-color: var(--fill-color);\n",
              "      border-top-color: var(--fill-color);\n",
              "    }\n",
              "    60% {\n",
              "      border-color: transparent;\n",
              "      border-right-color: var(--fill-color);\n",
              "    }\n",
              "    80% {\n",
              "      border-color: transparent;\n",
              "      border-right-color: var(--fill-color);\n",
              "      border-bottom-color: var(--fill-color);\n",
              "    }\n",
              "    90% {\n",
              "      border-color: transparent;\n",
              "      border-bottom-color: var(--fill-color);\n",
              "    }\n",
              "  }\n",
              "</style>\n",
              "\n",
              "  <script>\n",
              "    async function quickchart(key) {\n",
              "      const quickchartButtonEl =\n",
              "        document.querySelector('#' + key + ' button');\n",
              "      quickchartButtonEl.disabled = true;  // To prevent multiple clicks.\n",
              "      quickchartButtonEl.classList.add('colab-df-spinner');\n",
              "      try {\n",
              "        const charts = await google.colab.kernel.invokeFunction(\n",
              "            'suggestCharts', [key], {});\n",
              "      } catch (error) {\n",
              "        console.error('Error during call to suggestCharts:', error);\n",
              "      }\n",
              "      quickchartButtonEl.classList.remove('colab-df-spinner');\n",
              "      quickchartButtonEl.classList.add('colab-df-quickchart-complete');\n",
              "    }\n",
              "    (() => {\n",
              "      let quickchartButtonEl =\n",
              "        document.querySelector('#df-8259c5d3-47a0-479d-ba88-dc7003dfd66a button');\n",
              "      quickchartButtonEl.style.display =\n",
              "        google.colab.kernel.accessAllowed ? 'block' : 'none';\n",
              "    })();\n",
              "  </script>\n",
              "</div>\n",
              "    </div>\n",
              "  </div>\n"
            ]
          },
          "metadata": {},
          "execution_count": 66
        }
      ],
      "source": [
        "df.tail()"
      ],
      "id": "c528e6a1"
    },
    {
      "cell_type": "code",
      "execution_count": null,
      "metadata": {
        "colab": {
          "base_uri": "https://localhost:8080/"
        },
        "id": "117f8b02",
        "outputId": "74762b1b-8f87-48b3-ac14-7e77793cc7bd"
      },
      "outputs": [
        {
          "output_type": "execute_result",
          "data": {
            "text/plain": [
              "URL_ID    float64\n",
              "URL        object\n",
              "dtype: object"
            ]
          },
          "metadata": {},
          "execution_count": 67
        }
      ],
      "source": [
        "df.dtypes"
      ],
      "id": "117f8b02"
    },
    {
      "cell_type": "code",
      "execution_count": null,
      "metadata": {
        "colab": {
          "base_uri": "https://localhost:8080/"
        },
        "id": "fb01d02b",
        "outputId": "f275c474-bd57-49f6-b5e0-58020b8f256c"
      },
      "outputs": [
        {
          "output_type": "execute_result",
          "data": {
            "text/plain": [
              "URL_ID    0\n",
              "URL       0\n",
              "dtype: int64"
            ]
          },
          "metadata": {},
          "execution_count": 68
        }
      ],
      "source": [
        "# To check any Null Values\n",
        "df.isnull().sum()"
      ],
      "id": "fb01d02b"
    },
    {
      "cell_type": "code",
      "execution_count": null,
      "metadata": {
        "colab": {
          "base_uri": "https://localhost:8080/"
        },
        "id": "1846e3b2",
        "outputId": "180ac61c-d130-4fcd-b9c1-0eb715dd4be0"
      },
      "outputs": [
        {
          "output_type": "execute_result",
          "data": {
            "text/plain": [
              "0"
            ]
          },
          "metadata": {},
          "execution_count": 69
        }
      ],
      "source": [
        "# To check any duplicate rows\n",
        "df.duplicated().sum()\n"
      ],
      "id": "1846e3b2"
    },
    {
      "cell_type": "markdown",
      "metadata": {
        "id": "79cb2d74"
      },
      "source": [
        "### Data Extraction"
      ],
      "id": "79cb2d74"
    },
    {
      "cell_type": "code",
      "execution_count": null,
      "metadata": {
        "colab": {
          "base_uri": "https://localhost:8080/"
        },
        "id": "2b00bcd4",
        "outputId": "0ddc25f4-a60f-4676-b66b-14b9299f4eb9"
      },
      "outputs": [
        {
          "output_type": "stream",
          "name": "stdout",
          "text": [
            "114\n"
          ]
        }
      ],
      "source": [
        "#extracting data from all url\n",
        "import requests\n",
        "from bs4 import BeautifulSoup\n",
        "docs=[]#empty list\n",
        "#loop through each row in the df\n",
        "for index,row in df.iterrows():\n",
        "  url_id=row['URL_ID']\n",
        "  url = row['URL']\n",
        "  #make a GET request to fetch the raw html content\n",
        "  header = {'User-Agent': \"Mozilla/5.0 (Windows NT 10.0; Win64; x64) AppleWebKit/537.36 (KHTML, like Gecko) Chrome/108.0.0.0 Safari/537.36\"}\n",
        "  response=requests.get(url)\n",
        "  #parse the html content\n",
        "  soup = BeautifulSoup(response.text, 'html.parser')\n",
        "  #title from soup\n",
        "  title=soup.title.text\n",
        "  #get text out of the soup\n",
        "  text=soup.get_text()\n",
        "  #adding text to datafrmae\n",
        "  docs.append(text)\n",
        "\n",
        "print(len(docs))"
      ],
      "id": "2b00bcd4"
    },
    {
      "cell_type": "markdown",
      "metadata": {
        "id": "785ac78e"
      },
      "source": [
        "### Data Preprocessing"
      ],
      "id": "785ac78e"
    },
    {
      "cell_type": "code",
      "execution_count": null,
      "metadata": {
        "id": "3b7de1cc"
      },
      "outputs": [],
      "source": [
        "import nltk\n",
        "from nltk.corpus import stopwords"
      ],
      "id": "3b7de1cc"
    },
    {
      "cell_type": "code",
      "execution_count": null,
      "metadata": {
        "colab": {
          "base_uri": "https://localhost:8080/"
        },
        "id": "a682303d",
        "outputId": "81ab8c5b-b48f-432f-c107-df5807a3c780"
      },
      "outputs": [
        {
          "output_type": "stream",
          "name": "stderr",
          "text": [
            "[nltk_data] Downloading package stopwords to /root/nltk_data...\n",
            "[nltk_data]   Package stopwords is already up-to-date!\n",
            "[nltk_data] Downloading package punkt to /root/nltk_data...\n",
            "[nltk_data]   Package punkt is already up-to-date!\n"
          ]
        }
      ],
      "source": [
        "#making the stopword set from basic english and the given list of stopwords\n",
        "nltk.download('stopwords')\n",
        "nltk.download('punkt')\n",
        "stop_words=nltk.corpus.stopwords.words('english')"
      ],
      "id": "a682303d"
    },
    {
      "cell_type": "code",
      "execution_count": null,
      "metadata": {
        "colab": {
          "base_uri": "https://localhost:8080/"
        },
        "id": "d6a4fb33",
        "outputId": "beff44c5-103b-42b2-ca9c-2cc17a8c898e"
      },
      "outputs": [
        {
          "output_type": "stream",
          "name": "stdout",
          "text": [
            "Full file name with directories:  /content/drive/MyDrive/Colab Notebooks/BlackCoffer/StopWords/StopWords_Names.txt\n",
            "\t\t Absolute file name:  StopWords_Names.txt\n",
            "\n",
            "\n",
            "Full file name with directories:  /content/drive/MyDrive/Colab Notebooks/BlackCoffer/StopWords/StopWords_Geographic.txt\n",
            "\t\t Absolute file name:  StopWords_Geographic.txt\n",
            "\n",
            "\n",
            "Full file name with directories:  /content/drive/MyDrive/Colab Notebooks/BlackCoffer/StopWords/StopWords_GenericLong.txt\n",
            "\t\t Absolute file name:  StopWords_GenericLong.txt\n",
            "\n",
            "\n",
            "Full file name with directories:  /content/drive/MyDrive/Colab Notebooks/BlackCoffer/StopWords/StopWords_DatesandNumbers.txt\n",
            "\t\t Absolute file name:  StopWords_DatesandNumbers.txt\n",
            "\n",
            "\n",
            "Full file name with directories:  /content/drive/MyDrive/Colab Notebooks/BlackCoffer/StopWords/StopWords_Currencies.txt\n",
            "\t\t Absolute file name:  StopWords_Currencies.txt\n",
            "\n",
            "\n",
            "Full file name with directories:  /content/drive/MyDrive/Colab Notebooks/BlackCoffer/StopWords/StopWords_Auditor.txt\n",
            "\t\t Absolute file name:  StopWords_Auditor.txt\n",
            "\n",
            "\n",
            "Full file name with directories:  /content/drive/MyDrive/Colab Notebooks/BlackCoffer/StopWords/StopWords_Generic.txt\n",
            "\t\t Absolute file name:  StopWords_Generic.txt\n",
            "\n",
            "\n",
            "First 50 stop_words:\t ['i', 'me', 'my', 'myself', 'we', 'our', 'ours', 'ourselves', 'you', \"you're\", \"you've\", \"you'll\", \"you'd\", 'your', 'yours', 'yourself', 'yourselves', 'he', 'him', 'his', 'himself', 'she', \"she's\", 'her', 'hers', 'herself', 'it', \"it's\", 'its', 'itself', 'they', 'them', 'their', 'theirs', 'themselves', 'what', 'which', 'who', 'whom', 'this', 'that', \"that'll\", 'these', 'those', 'am', 'is', 'are', 'was', 'were', 'be']\n",
            "\n",
            "Last 50 stop_words:\t ['other', 'our', 'ours', 'ourselves', 'out', 'over', 'own', 'same', 'she', 'should', 'so', 'some', 'such', 'than', 'that', 'the', 'their', 'theirs', 'them', 'themselves', 'then', 'there', 'these', 'they', 'this', 'those', 'through', 'to', 'too', 'under', 'until', 'up', 'very', 'was', 'we', 'were', 'what', 'when', 'where', 'which', 'while', 'who', 'whom', 'why', 'with', 'you', 'your', 'yours', 'yourself', 'yourselves']\n"
          ]
        }
      ],
      "source": [
        "#adding more stopwords from text file of stopwords\n",
        "import glob\n",
        "import os\n",
        "file_list = glob.glob(r\"/content/drive/MyDrive/Colab Notebooks/BlackCoffer/StopWords/*.txt\")\n",
        "\n",
        "# get the file name with os.path.basename\n",
        "for file_name in file_list:\n",
        "    print(\"Full file name with directories: \", file_name)\n",
        "    file_name_absolute = os.path.basename(file_name)\n",
        "    print(\"\\t\\t Absolute file name: \", file_name_absolute)\n",
        "    print('\\n')\n",
        "\n",
        "#extend the stop_words list\n",
        "for file in file_list:\n",
        "    with open(file, 'r',encoding='Latin-1') as f:\n",
        "        stop_words.extend(f.read().lower().splitlines())\n",
        "\n",
        "print(\"First 50 stop_words:\\t\",stop_words[:50])\n",
        "print(\"\\nLast 50 stop_words:\\t\",stop_words[-50:])"
      ],
      "id": "d6a4fb33"
    },
    {
      "cell_type": "code",
      "execution_count": null,
      "metadata": {
        "colab": {
          "base_uri": "https://localhost:8080/"
        },
        "id": "16725605",
        "outputId": "21fc0aed-9bf9-4e78-f3ba-f91a6f83a549"
      },
      "outputs": [
        {
          "output_type": "execute_result",
          "data": {
            "text/plain": [
              "114"
            ]
          },
          "metadata": {},
          "execution_count": 74
        }
      ],
      "source": [
        "from nltk.tokenize import word_tokenize\n",
        "import re\n",
        "import string\n",
        "\n",
        "# create preprocess_text function\n",
        "def preprocess_text(text):\n",
        "  clean_text = re.sub(r'[^\\w\\s]',' ',text)\n",
        "  # Tokenize the text\n",
        "  text_tokens = word_tokenize(clean_text.lower())\n",
        "  # Remove stop words\n",
        "  filtered_tokens = [word for word in text_tokens if word not in stop_words]\n",
        "  # Join the tokens back into a string(sentence)\n",
        "  filtered_text= ' '.join(filtered_tokens)\n",
        "\n",
        "  return filtered_text\n",
        "\n",
        "# apply the function on docs\n",
        "docs_1=list(map(preprocess_text,docs))\n",
        "len(docs_1)\n"
      ],
      "id": "16725605"
    },
    {
      "cell_type": "code",
      "execution_count": null,
      "metadata": {
        "id": "f04f3d04"
      },
      "outputs": [],
      "source": [
        "#docs_1[113]"
      ],
      "id": "f04f3d04"
    },
    {
      "cell_type": "code",
      "execution_count": null,
      "metadata": {
        "colab": {
          "base_uri": "https://localhost:8080/"
        },
        "id": "b235cf72",
        "outputId": "3c03985f-9076-413f-faf0-747eb24eddfc"
      },
      "outputs": [
        {
          "output_type": "stream",
          "name": "stdout",
          "text": [
            "Full file name with directories:  /content/drive/MyDrive/Colab Notebooks/BlackCoffer/MasterDictionary/positive-words.txt\n",
            "\t\t Absolute file name:  positive-words.txt\n",
            "\n",
            "\n",
            "Full file name with directories:  /content/drive/MyDrive/Colab Notebooks/BlackCoffer/MasterDictionary/negative-words.txt\n",
            "\t\t Absolute file name:  negative-words.txt\n",
            "\n",
            "\n",
            "\n",
            " first 50 +ve words:\t ['a+', 'abound', 'abounds', 'abundance', 'abundant', 'accessable', 'accessible', 'acclaim', 'acclaimed', 'acclamation', 'accolade', 'accolades', 'accommodative', 'accomodative', 'accomplish', 'accomplished', 'accomplishment', 'accomplishments', 'accurate', 'accurately', 'achievable', 'achievement', 'achievements', 'achievible', 'acumen', 'adaptable', 'adaptive', 'adequate', 'adjustable', 'admirable', 'admirably', 'admiration', 'admire', 'admirer', 'admiring', 'admiringly', 'adorable', 'adore', 'adored', 'adorer', 'adoring', 'adoringly', 'adroit', 'adroitly', 'adulate', 'adulation', 'adulatory', 'advanced', 'advantage', 'advantageous']\n",
            "\n",
            " first 50 -ve words:\t ['about', 'above', 'after', 'again', 'all', 'am', 'among', 'an', 'and', 'any', 'are', 'as', 'at', 'be', 'because', 'been', 'before', 'being', 'below', 'between', 'both', 'but', 'by', 'can', 'did', 'do', 'does', 'doing', 'down', 'during', 'each', 'few', 'for', 'from', 'further', 'had', 'has', 'have', 'having', 'he', 'her', 'here', 'hers', 'herself', 'him', 'himself', 'his', 'how', 'if', 'in']\n"
          ]
        }
      ],
      "source": [
        "#store positive, Negative words from the directory\n",
        "pos_dict=[]\n",
        "neg_dict=[]\n",
        "file_list = glob.glob(\"/content/drive/MyDrive/Colab Notebooks/BlackCoffer/MasterDictionary/*.txt\")\n",
        "\n",
        "for file_name in file_list:\n",
        "    print(\"Full file name with directories: \", file_name)\n",
        "    file_name_absolute = os.path.basename(file_name)\n",
        "    print(\"\\t\\t Absolute file name: \", file_name_absolute)\n",
        "\n",
        "    if (file_name_absolute=='positive-words.txt'):\n",
        "      with open(file_name, 'r',encoding='Latin-1') as f:\n",
        "        pos_dict.extend(f.read().lower().splitlines())\n",
        "    else :\n",
        "        with open(file, 'r',encoding='Latin-1') as f:\n",
        "         neg_dict.extend(f.read().lower().splitlines())\n",
        "    print('\\n')\n",
        "#print(\"+ve words\\n\",pos_dict)\n",
        "#print(\"-ve words\\n\",neg_dict)\n",
        "print (\"\\n first 50 +ve words:\\t\",pos_dict[:50])\n",
        "print (\"\\n first 50 -ve words:\\t\",neg_dict[:50])"
      ],
      "id": "b235cf72"
    },
    {
      "cell_type": "code",
      "execution_count": null,
      "metadata": {
        "id": "ma_3OJF3X_Qk"
      },
      "outputs": [],
      "source": [
        "# now collect the positive  and negative words from each file\n",
        "# calculate the scores from the positive and negative words\n",
        "positive_words = []\n",
        "negative_words =[]\n",
        "positive_score = []\n",
        "negative_score = []\n",
        "polarity_score = []\n",
        "subjectivity_score = []\n",
        "\n",
        "#iterate through each docs\n",
        "for i,text in enumerate(docs_1):\n",
        "  positive_words.append([word for word in text.split() if word  in pos_dict])\n",
        "  negative_words.append([word for word in text.split() if word  in neg_dict])\n",
        "  positive_score.append(len(positive_words[i]))\n",
        "  negative_score.append(len(negative_words[i]))\n",
        "  polarity_score.append((positive_score[i] - negative_score[i]) / ((positive_score[i] + negative_score[i]) + 0.000001))\n",
        "  subjectivity_score.append((positive_score[i] + negative_score[i]) / ((len(docs[i])) + 0.000001))\n"
      ],
      "id": "ma_3OJF3X_Qk"
    },
    {
      "cell_type": "code",
      "source": [
        "# Word_Count\n",
        "# Average Sentence Length = the number of words / the number of sentences\n",
        "# Average Word Length= Sum of the total number of characters in each  word /Total number of words\n",
        "# Percentage of Complex words = the number of complex words / the number of words\n",
        "# Fog Index = 0.4 * (Average Sentence Length + Percentage of Complex words)\n",
        "\n",
        "word_count=[]\n",
        "average_sentence_length= []\n",
        "average_word_length=[]\n",
        "complex_word_count=[]\n",
        "Percentage_Complex_words  =  []\n",
        "Fog_Index = []\n",
        "average_syllable_word_count =[]\n",
        "\n",
        "stopwords = nltk.corpus.stopwords.words('english')\n",
        "\n",
        "def measure(text):\n",
        "# remove punctuations\n",
        "    text = re.sub(r'[^\\w\\s.]',' ',text)\n",
        "# split the given text file into sentences\n",
        "    sentences=[]\n",
        "    sentences = text.split('.')\n",
        "# total number of sentences in a file\n",
        "    num_sentences = len(sentences)\n",
        "\n",
        "# total words in the file\n",
        "    words=[]\n",
        "    words = [word  for word in text.split() if word.lower() not in stopwords ]\n",
        "    num_words = len(words)\n",
        "#sum of total number of characters in each word\n",
        "    length= sum(len(word) for word in words)\n",
        "\n",
        "\n",
        "\n",
        "# complex words having syllable count is greater than 2\n",
        "# Complex words are words in the text that contain more than two syllables.\n",
        "    complex_words = []\n",
        "    for word in words:\n",
        "      vowels = 'aeiou'\n",
        "      syllable_count_word = sum( 1 for letter in word if letter.lower() in vowels)\n",
        "      if syllable_count_word > 2:\n",
        "        complex_words.append(word)\n",
        "\n",
        "# Syllable Count Per Word\n",
        "# We count the number of Syllables in each word of the text by counting the vowels present in each word.\n",
        "#  We also handle some exceptions like words ending with \"es\",\"ed\" by not counting them as a syllable.\n",
        "    syllable_count = 0\n",
        "    syllable_words =[]\n",
        "    for word in words:\n",
        "      if word.endswith('es'):\n",
        "        word = word[:-2]\n",
        "      elif word.endswith('ed'):\n",
        "        word = word[:-2]\n",
        "      vowels = 'aeiou'\n",
        "      syllable_count_word = sum( 1 for letter in word if letter.lower() in vowels)\n",
        "      if syllable_count_word >= 1:\n",
        "        syllable_words.append(word)\n",
        "        syllable_count += syllable_count_word\n",
        "\n",
        "# Calculations:\n",
        "    word_count.append(num_words)\n",
        "\n",
        "    avg_sent_len = num_words / num_sentences\n",
        "    average_sentence_length.append(avg_sent_len)\n",
        "\n",
        "    avg_word_length=length/num_words\n",
        "    average_word_length.append(avg_word_length)\n",
        "\n",
        "    complex_word_count.append(len(complex_words))\n",
        "\n",
        "    avg_syllable_word_count = syllable_count / len(syllable_words)\n",
        "    average_syllable_word_count.append(avg_syllable_word_count)\n",
        "\n",
        "\n",
        "    Percent_Complex_words  =  len(complex_words) / num_words\n",
        "    Percentage_Complex_words.append(Percent_Complex_words)\n",
        "\n",
        "    Fog_index = 0.4 * (avg_sent_len + Percent_Complex_words)\n",
        "    Fog_Index.append(Fog_index)\n"
      ],
      "metadata": {
        "id": "U8nTw9mNMY6Z"
      },
      "id": "U8nTw9mNMY6Z",
      "execution_count": null,
      "outputs": []
    },
    {
      "cell_type": "code",
      "source": [
        "# iterate through each file or doc\n",
        "for file in docs:\n",
        "  measure(file)"
      ],
      "metadata": {
        "id": "aobiQiTBNZNr"
      },
      "id": "aobiQiTBNZNr",
      "execution_count": null,
      "outputs": []
    },
    {
      "cell_type": "code",
      "source": [
        "def personal_pronoun_count(text):\n",
        "  personal_pronouns = [\"I\", \"we\", \"my\", \"ours\", \"us\"]\n",
        "  count = 0\n",
        "  for pronoun in personal_pronouns:\n",
        "    count += len(re.findall(r\"\\b\" + pronoun + r\"\\b\", text)) # \\b is used to match word boundaries\n",
        "  return count\n",
        "\n",
        "# apply the function on docs\n",
        "pp_count=list(map(personal_pronoun_count,docs))"
      ],
      "metadata": {
        "id": "sShwB4lvxzk6"
      },
      "id": "sShwB4lvxzk6",
      "execution_count": null,
      "outputs": []
    },
    {
      "cell_type": "code",
      "source": [
        "output_df = pd.read_excel('Output Data Structure.xlsx')"
      ],
      "metadata": {
        "id": "WzUJCJNXx1sF"
      },
      "id": "WzUJCJNXx1sF",
      "execution_count": null,
      "outputs": []
    },
    {
      "cell_type": "code",
      "source": [
        "# These are the required parameters\n",
        "variables = [positive_score,\n",
        "            negative_score,\n",
        "            polarity_score,\n",
        "            subjectivity_score,\n",
        "            average_sentence_length,\n",
        "            Percentage_Complex_words,\n",
        "            Fog_Index,\n",
        "            average_sentence_length,\n",
        "            complex_word_count,\n",
        "            word_count,\n",
        "            average_syllable_word_count,\n",
        "            pp_count,\n",
        "            average_word_length]\n",
        "\n",
        "# write the values to the dataframe\n",
        "for i, var in enumerate(variables):\n",
        "  output_df.iloc[:,i+2] = var\n",
        "\n",
        "# save the dataframe in excel sheet\n",
        "output_df.to_excel('Output_Data.xlsx')"
      ],
      "metadata": {
        "id": "JBFjYHTBFJFR"
      },
      "id": "JBFjYHTBFJFR",
      "execution_count": null,
      "outputs": []
    }
  ],
  "metadata": {
    "colab": {
      "provenance": []
    },
    "kernelspec": {
      "display_name": "Python 3",
      "name": "python3"
    },
    "language_info": {
      "codemirror_mode": {
        "name": "ipython",
        "version": 3
      },
      "file_extension": ".py",
      "mimetype": "text/x-python",
      "name": "python",
      "nbconvert_exporter": "python",
      "pygments_lexer": "ipython3",
      "version": "3.10.9"
    }
  },
  "nbformat": 4,
  "nbformat_minor": 5
}